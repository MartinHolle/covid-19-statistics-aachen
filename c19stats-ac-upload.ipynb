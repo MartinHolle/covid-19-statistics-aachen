{
 "cells": [
  {
   "cell_type": "markdown",
   "metadata": {},
   "source": [
    "Copyright (c) 2020 Martin Holle. Alle Rechte vorbehalten. Lizensiert unter der MIT-Lizenz.\n",
    "\n",
    "\n",
    "# Covid-19 Statistics Aachen: Upload\n",
    "\n",
    "Die im vorherigen Schritt produzierten Grafik-Dateien und `yml`-Dateien mit den Meta-Daten werden in diesem Schritt per FTP in das Zielverzeichnis auf dem Web-Server hochgeladen."
   ]
  },
  {
   "cell_type": "markdown",
   "metadata": {},
   "source": [
    "## Benötigte Imports und Vorbereitungen"
   ]
  },
  {
   "cell_type": "code",
   "execution_count": 1,
   "metadata": {},
   "outputs": [],
   "source": [
    "import logging\n",
    "import configparser\n",
    "import os\n",
    "import ftplib\n",
    "from ftplib import FTP\n",
    "\n",
    "# Konfiguration einlesen\n",
    "config = configparser.ConfigParser()\n",
    "config.read('config.ini')\n",
    "config.read('upload.ini')\n",
    "\n",
    "# Konfiguration des Loggings\n",
    "# - Die Logging-Ausgaben werden in der lokalen Datei covid-19-datenabfrage.log geschrieben\n",
    "# - Für die Ausgabe wird eine bestimmte Formatierung konfiguriert\n",
    "fhandler = logging.FileHandler(filename=config['Logging']['LogFileName'], mode='a')\n",
    "\n",
    "# TODO: Formatierung finalisieren (Tausendstel-Sekunden, Tag des Monats, 1. Zeichen des Levels)\n",
    "formatter = logging.Formatter('%(asctime)s %(levelname)-1.1s %(name)-20.20s - %(message)s')\n",
    "fhandler.setFormatter(formatter)\n",
    "\n",
    "# Instanzierung und Konfigurierung des Loggers\n",
    "log = logging.getLogger(\"upload\")\n",
    "log.addHandler(fhandler)\n",
    "log.setLevel(logging.INFO)"
   ]
  },
  {
   "cell_type": "markdown",
   "metadata": {},
   "source": [
    "## Upload"
   ]
  },
  {
   "cell_type": "code",
   "execution_count": 22,
   "metadata": {},
   "outputs": [
    {
     "name": "stdout",
     "output_type": "stream",
     "text": [
      "Uploading started\n",
      "c19-diagram-1.jpg ............................... 498204 bytes\n",
      "c19-diagram-2.jpg ........................................................ 1410041 bytes\n",
      "c19-diagram-3.jpg ............................................ 2119126 bytes\n",
      "c19-diagram-4.jpg ................................... 2690217 bytes\n",
      "Uploading stopped\n"
     ]
    }
   ],
   "source": [
    "if (config.has_section('Upload')):\n",
    "    output_folder=config['Visualisierung']['OutputFolder']\n",
    "\n",
    "    host = config['Upload']['ftp.hostaddress']\n",
    "    user = config['Upload']['ftp.username']\n",
    "    pwd = config['Upload']['ftp.password']\n",
    "    target_folder = config['Upload']['ftp.targetdir']    \n",
    "\n",
    "    files = os.listdir(output_folder)\n",
    "    \n",
    "    log.info(f\"Start uploading %d files from local folder: %s\", len(files), output_folder)\n",
    "\n",
    "    uploaded_bytes = 0\n",
    "    def count_bytes(chunk):\n",
    "        global uploaded_bytes\n",
    "        uploaded_bytes += len(chunk)\n",
    "        print(\".\", end='')\n",
    "        \n",
    "    try:\n",
    "        with FTP(host) as ftp:\n",
    "            ftp.login(user=user, passwd=pwd)\n",
    "            log.info(f\"Logged in to FTP host %s\", host)\n",
    "            ftp.cwd(target_folder)\n",
    "            log.info(f\"Target folder: %s\", target_folder)\n",
    "            print(\"Uploading started\")\n",
    "            for filename in files:\n",
    "                log.info(f\"Start uploading file: %s\", filename)\n",
    "                with open(os.path.join(output_folder, filename), \"rb\") as file:\n",
    "                    print(filename + ' ', end='')\n",
    "                    ftp.storbinary(\"STOR {0}\".format(filename), file, callback=count_bytes, blocksize=16384)\n",
    "                    print(\" {0} bytes\".format(str(uploaded_bytes)))\n",
    "            print(\"Uploading stopped\")\n",
    "            \n",
    "        log.info(f\"Uploaded %d bytes to FTP host\", uploaded_bytes)\n",
    "            \n",
    "    except OSError as ose:\n",
    "        log.error(f\"File error '%s' (%s) during FTP upload\", str(ose.errno), ose.strerror)\n",
    "    \n",
    "    except ftplib.all_errors as fe:\n",
    "        log.error(f\"FTP error '%s' during FTP upload\", str(fe).split(None, 1)[0])\n",
    "\n",
    "    log.info('Uploading stopped')\n",
    "else:\n",
    "    log.warning('No upload configuration file found.')"
   ]
  }
 ],
 "metadata": {
  "kernelspec": {
   "display_name": "Python 3",
   "language": "python",
   "name": "python3"
  },
  "language_info": {
   "codemirror_mode": {
    "name": "ipython",
    "version": 3
   },
   "file_extension": ".py",
   "mimetype": "text/x-python",
   "name": "python",
   "nbconvert_exporter": "python",
   "pygments_lexer": "ipython3",
   "version": "3.6.8"
  }
 },
 "nbformat": 4,
 "nbformat_minor": 2
}
