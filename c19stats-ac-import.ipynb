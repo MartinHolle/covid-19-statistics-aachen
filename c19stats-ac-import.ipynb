{
 "cells": [
  {
   "cell_type": "markdown",
   "metadata": {},
   "source": [
    "Copyright (c) 2020 Martin Holle. Alle Rechte vorbehalten. Lizensiert unter der MIT-Lizenz.\n",
    "\n",
    "# Covid-19 Statistics Aachen: Import\n",
    "\n",
    "Import neuer Daten, Zusammenführung mit den existierenden Daten und Speichern des Resultats in einer Excel-Datei für die Datenübergabe an den nächsten Schritt, in dem die Daten aufbereitet werden.\n",
    "\n",
    "## Vorbereitungen\n",
    "\n",
    "- Benötigte Imports\n",
    "- Konfiguration aus zentraler `.ini`-Datei einlesen\n",
    "- Konfiguration und Instanzierung des Loggers\n",
    "- Globale Variablen definieren"
   ]
  },
  {
   "cell_type": "code",
   "execution_count": 1,
   "metadata": {},
   "outputs": [],
   "source": [
    "import pandas as pd\n",
    "\n",
    "import logging\n",
    "import configparser\n",
    "\n",
    "# Konfiguration einlesen\n",
    "config = configparser.ConfigParser(interpolation=None)\n",
    "config.read('config.ini')\n",
    "\n",
    "# Konfiguration des Loggings\n",
    "fhandler = logging.FileHandler(filename=config['Logging']['LogFileName'], mode='a')\n",
    "formatter = logging.Formatter(config['Logging']['LogFormat'])\n",
    "fhandler.setFormatter(formatter)\n",
    "\n",
    "# Logger instanzieren\n",
    "log = logging.getLogger(\"import\")\n",
    "log.addHandler(fhandler)\n",
    "log.setLevel(logging.DEBUG)"
   ]
  },
  {
   "cell_type": "markdown",
   "metadata": {},
   "source": [
    "## Einlesen der Import-Datei\n",
    "\n",
    "- Datei und Seite der Excel-Datei: Siehe `config.ini`\n",
    "- Einzulesende Spalten: \n",
    "  - **A**: Datum im Format 'DD.MM.'\n",
    "  - **B**: Akkumulierte Anzahl der Infektionen für gesamte Städteregion (inkl. Aachen) als Integerzahl\n",
    "  - **C**: Akkumulierte Anzahl der Infektionen für die Stadt Aachen als Integerzahl\n",
    "  - **D**: Anzahl neuer Todesfälle durch Covid-19 für gesamte Städteregion (inkl. Aachen) als Integerzahl\n",
    "  - **E**: Akkumulierte Anzahl der Todesfälle durch Covid-19 für gesamte Städteregion (inkl. Aachen) als Integerzahl \n",
    "  - **F**: Akkumulierte Anzahl der Genesenen für gesamte Städteregion (inkl. Aachen) als Integerzahl\n",
    "- Spalte A als Datum interpretieren\n",
    "- Die erste Zeile (Header) überspringen\n",
    "- Label der Spalten explizit setzen"
   ]
  },
  {
   "cell_type": "code",
   "execution_count": 2,
   "metadata": {
    "scrolled": false
   },
   "outputs": [],
   "source": [
    "imported_data = False\n",
    "\n",
    "col_names = ['Uhrzeit', 'Summe', 'Summe Aachen', 'Summe Todesfälle', 'Summe genesen', 'Akute Fälle' ]\n",
    "\n",
    "try:\n",
    "    imported_cases = pd.read_excel(config['Import']['FileName'], \n",
    "                              sheet_name=config['Import']['SheetName'], \n",
    "                              index_col=0,\n",
    "                              parse_dates=[0],\n",
    "                              skiprows=[],\n",
    "                              names=col_names)\n",
    "    if len(imported_cases.index) > 0:\n",
    "        imported_data = True\n",
    "        log.info('{0} new data records imported from file {1}'.format(len(imported_cases.index), config['Import']['FileName']))        \n",
    "    else:\n",
    "        log.warning('No new data imported from file {0}'.format(config['Import']['FileName']))        \n",
    "\n",
    "except FileNotFoundError as err: \n",
    "    log.error('Error during pd.read_excel(): {0}'.format(err))"
   ]
  },
  {
   "cell_type": "markdown",
   "metadata": {},
   "source": [
    "## Importierte Daten zu den existierenden Daten hinzufügen"
   ]
  },
  {
   "cell_type": "markdown",
   "metadata": {},
   "source": [
    "### Existierende Daten aus Excel-Datei einlesen\n",
    "\n",
    "- Datei und Seite der Excel-Datei: Siehe `config.ini`\n",
    "- Einzulesende Spalten: \n",
    "  - **A**: Datum im Format 'DD.MM.'\n",
    "  - **B**: Akkumulierte Anzahl der Infektionen für gesamte Städteregion (inkl. Aachen) als Integerzahl\n",
    "  - **C**: Akkumulierte Anzahl der Infektionen für die Stadt Aachen als Integerzahl\n",
    "  - **D**: Anzahl neuer Todesfälle durch Covid-19 für gesamte Städteregion (inkl. Aachen) als Integerzahl\n",
    "  - **E**: Akkumulierte Anzahl der Todesfälle durch Covid-19 für gesamte Städteregion (inkl. Aachen) als Integerzahl \n",
    "  - **F**: Akkumulierte Anzahl der Genesenen für gesamte Städteregion (inkl. Aachen) als Integerzahl\n",
    "- Spalte A als Datum interpretieren\n",
    "- Die erste Zeile (Header) überspringen\n",
    "- Label der Spalten explizit setzen"
   ]
  },
  {
   "cell_type": "code",
   "execution_count": 3,
   "metadata": {
    "scrolled": false
   },
   "outputs": [],
   "source": [
    "if imported_data:\n",
    "    col_names = ['Uhrzeit', 'Summe', 'Summe Aachen', 'Summe Todesfälle', 'Summe genesen', 'Akute Fälle' ]\n",
    "\n",
    "    try:\n",
    "        c19_cases = pd.read_excel(config['Rohdaten']['FileName'], \n",
    "                                  sheet_name=config['Rohdaten']['SheetName'], \n",
    "                                  index_col=0,\n",
    "                                  parse_dates=[0],\n",
    "                                  skiprows=[],\n",
    "                                  names=col_names)\n",
    "        log.info('{0} existing data records read from file {1}'.format(len(c19_cases.index), config['Rohdaten']['FileName']))        \n",
    "\n",
    "    except FileNotFoundError as err: \n",
    "        log.error('Error during pd.read_excel(): {0}'.format(err))\n",
    "        # Leere DataFrame für den Start erzeugen\n",
    "        c19_cases = pd.DataFrame(columns=col_names, index=pd.DatetimeIndex([], name='Datum'))\n"
   ]
  },
  {
   "cell_type": "markdown",
   "metadata": {},
   "source": [
    "### Daten zusammenführen und speichern\n",
    "\n",
    "1. Den DataFrame mit den importierten Daten mit dem DataFrame der existierendem Daten zusammenführen\n",
    "2. Zusammengeführte Daten speichern"
   ]
  },
  {
   "cell_type": "code",
   "execution_count": 4,
   "metadata": {
    "slideshow": {
     "slide_type": "slide"
    }
   },
   "outputs": [],
   "source": [
    "if imported_data:\n",
    "    # Nur Zeilen mit neuerem Datum hinzufügen\n",
    "    merged_cases = pd.concat([c19_cases, imported_cases[imported_cases.index > c19_cases.index[-1]]], join='outer')\n",
    "    \n",
    "    try:\n",
    "        merged_cases.to_excel(config['Rohdaten']['FileName'], \n",
    "                              sheet_name=config['Rohdaten']['SheetName'], index_label='Datum')\n",
    "        log.info(\"{0} new case records appended\".format(len(merged_cases.index) - len(c19_cases.index)))\n",
    "\n",
    "    except Exception as err:\n",
    "        log.error('Error during merged_cases.to_excel(): {0}'.format(err))\n",
    "        "
   ]
  },
  {
   "cell_type": "code",
   "execution_count": null,
   "metadata": {},
   "outputs": [],
   "source": []
  }
 ],
 "metadata": {
  "kernelspec": {
   "display_name": "Python 3",
   "language": "python",
   "name": "python3"
  },
  "language_info": {
   "codemirror_mode": {
    "name": "ipython",
    "version": 3
   },
   "file_extension": ".py",
   "mimetype": "text/x-python",
   "name": "python",
   "nbconvert_exporter": "python",
   "pygments_lexer": "ipython3",
   "version": "3.6.8"
  }
 },
 "nbformat": 4,
 "nbformat_minor": 2
}
